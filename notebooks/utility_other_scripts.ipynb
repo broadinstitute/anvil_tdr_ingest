{
 "cells": [
  {
   "cell_type": "code",
   "execution_count": null,
   "metadata": {},
   "outputs": [],
   "source": [
    "#!pip install --upgrade data_repo_client"
   ]
  },
  {
   "cell_type": "code",
   "execution_count": 9,
   "metadata": {
    "code_folding": []
   },
   "outputs": [],
   "source": [
    "# Imports\n",
    "import import_ipynb\n",
    "import ingest_pipeline_utilities as utils\n",
    "import data_repo_client\n",
    "from google.cloud import bigquery\n",
    "import pandas as pd\n",
    "pd.set_option('display.max_rows', None)"
   ]
  },
  {
   "cell_type": "markdown",
   "metadata": {
    "heading_collapsed": true
   },
   "source": [
    "# TDR Reader Management"
   ]
  },
  {
   "cell_type": "markdown",
   "metadata": {
    "hidden": true
   },
   "source": [
    "## Remove Undesired Readers from TDR Datasets"
   ]
  },
  {
   "cell_type": "code",
   "execution_count": null,
   "metadata": {
    "hidden": true,
    "scrolled": true
   },
   "outputs": [],
   "source": [
    "# Function to remove erroneous readers from snapshot\n",
    "def clean_up_ad_readers(snapshot_id, readers):\n",
    "    print(\"Cleaning up readers for {}...\".format(snapshot_id))\n",
    "    reader_list = readers\n",
    "    api_client = utils.refresh_tdr_api_client()\n",
    "    snapshots_api = data_repo_client.SnapshotsApi(api_client=api_client)\n",
    "    # Retrieve snapshot, grab auth_domain\n",
    "    if '$AUTH_DOMAIN' in reader_list:\n",
    "        snapshot_response = snapshots_api.retrieve_snapshot(id=snapshot_id)\n",
    "        snapshot_name = snapshot_response.name\n",
    "        print(\"Snapshot name: {}\".format(snapshot_name))\n",
    "        try:\n",
    "            auth_domain_list = snapshot_response.source[0].dataset_properties[\"auth_domains\"]\n",
    "        except:\n",
    "            auth_domain_list = []\n",
    "        for ad in auth_domain_list:\n",
    "            reader_list.append(ad + \"@firecloud.org\")\n",
    "\n",
    "    # Retrieve snapshot policies and delete readers that aren't in reader list\n",
    "    snapshot_policy_response = snapshots_api.retrieve_snapshot_policies(id=snapshot_id)\n",
    "    delete_count = 0\n",
    "    for policy in snapshot_policy_response.policies:\n",
    "        if policy.name == \"reader\":\n",
    "            for policymember in policy.members:\n",
    "                if policymember not in reader_list:\n",
    "                    api_client = utils.refresh_tdr_api_client()\n",
    "                    snapshots_api = data_repo_client.SnapshotsApi(api_client=api_client)\n",
    "                    retry_count = 0\n",
    "                    while retry_count < 1:\n",
    "                        try:\n",
    "                            delete_response = snapshots_api.delete_snapshot_policy_member(id=snapshot_id, policy_name=\"reader\", member_email=policymember)\n",
    "                            delete_count += 1\n",
    "                            break\n",
    "                        except:\n",
    "                            retry_count += 1\n",
    "                        \n",
    "    # Print results\n",
    "    snapshot_policy_response = snapshots_api.retrieve_snapshot_policies(id=snapshot_id)\n",
    "    print(f\"\\t{delete_count} erroneous readers deleted.\")\n",
    "    \n",
    "    for role in snapshot_policy_response.policies:\n",
    "        if role.name == \"reader\":\n",
    "            rem_readers = \", \".join(role.members)\n",
    "            print(f\"\\tRemaining readers: {rem_readers}\")\n",
    "    return \n",
    "\n",
    "# Clean-up snapshots\n",
    "reader_list = [\"azul-anvil-prod@firecloud.org\"]#, '$AUTH_DOMAIN']\n",
    "snapshot_id_list = [\n",
    "'b0fc6253-d274-4e53-9977-85d943116f7c',\n",
    "]\n",
    "for snapshot_id in snapshot_id_list:\n",
    "    clean_up_ad_readers(snapshot_id, reader_list)\n"
   ]
  },
  {
   "cell_type": "markdown",
   "metadata": {
    "hidden": true
   },
   "source": [
    "## Add Auth Domain Users to TDR Datasets"
   ]
  },
  {
   "cell_type": "code",
   "execution_count": null,
   "metadata": {
    "code_folding": [],
    "hidden": true
   },
   "outputs": [],
   "source": [
    "# Function to remove add readers to snapshot\n"
   ]
  },
  {
   "cell_type": "code",
   "execution_count": null,
   "metadata": {
    "hidden": true
   },
   "outputs": [],
   "source": [
    "snapshot_id = '5567b767-9fae-4d12-9242-732c2d436eab'\n",
    "api_client = utils.refresh_tdr_api_client()\n",
    "snapshots_api = data_repo_client.SnapshotsApi(api_client=api_client)\n",
    "snapshot_policy_response = snapshots_api.retrieve_snapshot_policies(id=snapshot_id)\n",
    "snapshot_policy_response.policies"
   ]
  },
  {
   "cell_type": "markdown",
   "metadata": {},
   "source": [
    "# Snapshot Row Count Collection"
   ]
  },
  {
   "cell_type": "code",
   "execution_count": null,
   "metadata": {},
   "outputs": [],
   "source": [
    "def return_row_counts(snapshot_id, results_list):\n",
    "    # Grab access information from schema\n",
    "    api_client = utils.refresh_tdr_api_client()\n",
    "    snapshots_api = data_repo_client.SnapshotsApi(api_client=api_client)\n",
    "    try:\n",
    "        response = snapshots_api.retrieve_snapshot(id=snapshot_id, include=[\"TABLES\", \"ACCESS_INFORMATION\"]).to_dict()\n",
    "        tdr_schema_dict = {}\n",
    "        tdr_schema_dict[\"tables\"] = response[\"tables\"]\n",
    "        bq_project = response[\"access_information\"][\"big_query\"][\"project_id\"]\n",
    "        bq_dataset = response[\"access_information\"][\"big_query\"][\"dataset_name\"]\n",
    "    except:\n",
    "        results_list.append([snapshot_id, 0])\n",
    "        return results_list\n",
    "    \n",
    "    # Build row count query\n",
    "    table_set = set()\n",
    "    table_count = 0\n",
    "    row_count_subquery = \"\"\n",
    "    for table_entry in tdr_schema_dict[\"tables\"]:\n",
    "        table_set.add(table_entry[\"name\"])\n",
    "    for table_entry in table_set:\n",
    "        table_count += 1\n",
    "        if table_count == 1:\n",
    "            row_count_subquery += \"SELECT datarepo_row_id FROM `{project}.{dataset}.{table}` \".format(project=bq_project, dataset=bq_dataset, table=table_entry)\n",
    "        else:\n",
    "            row_count_subquery += \"UNION ALL SELECT datarepo_row_id FROM `{project}.{dataset}.{table}` \".format(project=bq_project, dataset=bq_dataset, table=table_entry)\n",
    "    row_count_query = \"SELECT COUNT(*) AS row_count FROM ({subquery})\".format(subquery=row_count_subquery)\n",
    "    \n",
    "    # Execute query and write results to results dict\n",
    "    try:\n",
    "        client = bigquery.Client()\n",
    "        df_results = client.query(row_count_query).result().to_dataframe()\n",
    "        row_count = df_results[\"row_count\"].values[0]\n",
    "        results_list.append([snapshot_id, row_count])\n",
    "    except:\n",
    "        results_list.append([snapshot_id, 0])\n",
    "    return results_list\n",
    "    \n",
    "# Loop through snapshots and collect row counts\n",
    "results_list = []\n",
    "snapshot_id_list = [\n",
    "'bb7eaad8-b02c-455c-964d-c9242019d9e5',\n",
    "]\n",
    "for snapshot_id in snapshot_id_list:\n",
    "    results_list = return_row_counts(snapshot_id, results_list)\n",
    "    \n",
    "# Convert results to dataframe and display\n",
    "results_df = pd.DataFrame(results_list, columns = [\"snapshot_id\", \"row_count\"])\n",
    "display(results_df)\n"
   ]
  },
  {
   "cell_type": "code",
   "execution_count": null,
   "metadata": {},
   "outputs": [],
   "source": [
    "display(results_df)"
   ]
  },
  {
   "cell_type": "code",
   "execution_count": null,
   "metadata": {},
   "outputs": [],
   "source": []
  }
 ],
 "metadata": {
  "kernelspec": {
   "display_name": "Python 3",
   "language": "python",
   "name": "python3"
  },
  "language_info": {
   "codemirror_mode": {
    "name": "ipython",
    "version": 3
   },
   "file_extension": ".py",
   "mimetype": "text/x-python",
   "name": "python",
   "nbconvert_exporter": "python",
   "pygments_lexer": "ipython3",
   "version": "3.7.12"
  },
  "toc": {
   "base_numbering": 1,
   "nav_menu": {},
   "number_sections": true,
   "sideBar": true,
   "skip_h1_title": false,
   "title_cell": "Table of Contents",
   "title_sidebar": "Contents",
   "toc_cell": false,
   "toc_position": {},
   "toc_section_display": true,
   "toc_window_display": false
  }
 },
 "nbformat": 4,
 "nbformat_minor": 2
}
